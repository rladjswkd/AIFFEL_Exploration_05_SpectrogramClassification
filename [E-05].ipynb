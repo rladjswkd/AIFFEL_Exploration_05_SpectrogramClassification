{
 "cells": [
  {
   "cell_type": "markdown",
   "metadata": {},
   "source": [
    "### 필요한 패키지 import"
   ]
  },
  {
   "cell_type": "code",
   "execution_count": 1,
   "metadata": {},
   "outputs": [],
   "source": [
    "import numpy as np\n",
    "import os\n",
    "import IPython.display as ipd\n",
    "import random\n",
    "from sklearn.model_selection import train_test_split\n",
    "import tensorflow as tf\n",
    "import librosa\n",
    "from tensorflow.keras import layers\n",
    "import matplotlib.pyplot as plt"
   ]
  },
  {
   "cell_type": "markdown",
   "metadata": {},
   "source": [
    "### 1. 데이터 처리와 분류\n",
    "\n",
    "- 라벨 데이터 처리하기\n",
    "- sklearn의 train_test_split함수를 이용하여 train, test 분리"
   ]
  },
  {
   "cell_type": "code",
   "execution_count": 2,
   "metadata": {},
   "outputs": [],
   "source": [
    "data_path = os.getenv(\"HOME\")+'/aiffel/speech_recognition/data/speech_wav_8000.npz'\n",
    "speech_data = np.load(data_path)\n",
    "\n",
    "# target_list 각각의 요소에 대해 인덱스를 부여하고, 각 요소를 인덱스로 변환\n",
    "target_list = ['yes', 'no', 'up', 'down', 'left', 'right', 'on', 'off', 'stop', 'go']\n",
    "\n",
    "label_value = target_list\n",
    "label_value.append('unknown')\n",
    "label_value.append('silence')\n",
    "\n",
    "new_label_value = dict()\n",
    "for index, label in enumerate(label_value):\n",
    "    new_label_value[label] = index\n",
    "\n",
    "label_value = new_label_value\n",
    "\n",
    "# speech_data의 라벨 값들을 label_value에 담긴 대응하는 인덱스 값으로 변환\n",
    "temp = []\n",
    "for v in speech_data[\"label_vals\"]:\n",
    "    temp.append(label_value[v[0]])\n",
    "\n",
    "label_data = np.array(temp)\n",
    "\n",
    "# 학습 데이터셋과 테스트 데이터셋으로 데이터셋 분리\n",
    "sr = 8000\n",
    "train_wav, test_wav, train_label, test_label = train_test_split(speech_data[\"wav_vals\"], \n",
    "                                                                label_data, \n",
    "                                                                test_size=0.1,\n",
    "                                                                shuffle=True)"
   ]
  },
  {
   "cell_type": "markdown",
   "metadata": {},
   "source": [
    "### 2. 학습을 위한 하이퍼파라미터 설정"
   ]
  },
  {
   "cell_type": "code",
   "execution_count": 3,
   "metadata": {},
   "outputs": [],
   "source": [
    "batch_size = 32\n",
    "max_epochs = 10\n",
    "\n",
    "checkpoint_dir = os.getenv('HOME')+'/aiffel/speech_recognition/models/spec'"
   ]
  },
  {
   "cell_type": "markdown",
   "metadata": {},
   "source": [
    "### 3. 데이터셋 구성\n",
    "\n",
    "- tf.data.Dataset을 이용\n",
    "- from_tensor_slices 함수에 return 받길 원하는 데이터를 튜플 (data, label) 형태로 넣어서 사용\n",
    "- map과 batch를 이용한 데이터 전처리\n",
    "- 주의 : waveform을 spectrogram으로 변환하기 위해 추가로 사용하는 메모리 때문에 이후 메모리 부족 현상을 겪게 될수도 있습니다.   \n",
    "  tf.data.Dataset이 생성된 이후, 아래 예시와 같이 wav 데이터나 spectrogram 데이터를 담아둔 메모리 버퍼를 비워 주면 도움이 됩니다.   \n",
    "    del speech_data   \n",
    "    del spec_data"
   ]
  },
  {
   "cell_type": "code",
   "execution_count": 4,
   "metadata": {},
   "outputs": [],
   "source": [
    "# waveform 형식을 spectogram 형식으로 변환하는 함수\n",
    "def wav2spec(wav):\n",
    "    spec_data =[]\n",
    "    for data in wav:\n",
    "        temp_data = np.abs(librosa.stft(data, n_fft=258))\n",
    "        spec_data.append(temp_data)\n",
    "    return np.array(spec_data)"
   ]
  },
  {
   "cell_type": "code",
   "execution_count": 5,
   "metadata": {},
   "outputs": [],
   "source": [
    "# train_wav를 spectogram 형식으로 변환\n",
    "train_spec = wav2spec(train_wav)"
   ]
  },
  {
   "cell_type": "code",
   "execution_count": 6,
   "metadata": {},
   "outputs": [],
   "source": [
    "# test_wav를 spectogram 형식으로 변환\n",
    "test_spec = wav2spec(test_wav)"
   ]
  },
  {
   "cell_type": "code",
   "execution_count": 7,
   "metadata": {},
   "outputs": [],
   "source": [
    "del speech_data"
   ]
  },
  {
   "cell_type": "code",
   "execution_count": 8,
   "metadata": {},
   "outputs": [
    {
     "name": "stdout",
     "output_type": "stream",
     "text": [
      "<BatchDataset shapes: ((None, 130, 126), (None, 12)), types: (tf.float32, tf.float32)>\n",
      "<BatchDataset shapes: ((None, 130, 126), (None, 12)), types: (tf.float32, tf.float32)>\n"
     ]
    }
   ],
   "source": [
    "one_hot_label = lambda x, y : (x, tf.one_hot(y, depth=12))\n",
    "\n",
    "train_dataset = tf.data.Dataset.from_tensor_slices((train_spec, train_label))\n",
    "train_dataset = train_dataset.map(one_hot_label)\n",
    "train_dataset = train_dataset.repeat().batch(batch_size=batch_size)\n",
    "print(train_dataset)\n",
    "\n",
    "\n",
    "test_dataset = tf.data.Dataset.from_tensor_slices((test_spec, test_label))\n",
    "test_dataset = test_dataset.map(one_hot_label)\n",
    "test_dataset = test_dataset.batch(batch_size=batch_size)\n",
    "print(test_dataset)"
   ]
  },
  {
   "cell_type": "markdown",
   "metadata": {},
   "source": [
    "### 4. 2차원 Spectrogram 데이터를 처리하는 모델 구성\n",
    "- 2차원 Spectrogram 데이터의 시간축 방향으로 Conv1D layer를 적용, 혹은 Conv2D layer를 적용 가능\n",
    "- batchnorm, dropout, dense layer 등을 이용\n",
    "- 12개의 단어 class를 구분하는 loss를 사용하고 Adam optimizer를 사용\n",
    "- 모델 가중치를 저장하는 checkpoint callback 함수 추가\n",
    "- 다양한 모델의 실험을 진행해 보시기 바랍니다."
   ]
  },
  {
   "cell_type": "code",
   "execution_count": 9,
   "metadata": {},
   "outputs": [
    {
     "name": "stdout",
     "output_type": "stream",
     "text": [
      "Model: \"model\"\n",
      "_________________________________________________________________\n",
      "Layer (type)                 Output Shape              Param #   \n",
      "=================================================================\n",
      "input_1 (InputLayer)         [(None, 130, 126)]        0         \n",
      "_________________________________________________________________\n",
      "conv1d (Conv1D)              (None, 130, 32)           36320     \n",
      "_________________________________________________________________\n",
      "conv1d_1 (Conv1D)            (None, 130, 32)           9248      \n",
      "_________________________________________________________________\n",
      "max_pooling1d (MaxPooling1D) (None, 65, 32)            0         \n",
      "_________________________________________________________________\n",
      "conv1d_2 (Conv1D)            (None, 65, 64)            18496     \n",
      "_________________________________________________________________\n",
      "conv1d_3 (Conv1D)            (None, 65, 64)            36928     \n",
      "_________________________________________________________________\n",
      "max_pooling1d_1 (MaxPooling1 (None, 32, 64)            0         \n",
      "_________________________________________________________________\n",
      "conv1d_4 (Conv1D)            (None, 32, 128)           73856     \n",
      "_________________________________________________________________\n",
      "conv1d_5 (Conv1D)            (None, 32, 128)           147584    \n",
      "_________________________________________________________________\n",
      "conv1d_6 (Conv1D)            (None, 32, 128)           147584    \n",
      "_________________________________________________________________\n",
      "max_pooling1d_2 (MaxPooling1 (None, 16, 128)           0         \n",
      "_________________________________________________________________\n",
      "conv1d_7 (Conv1D)            (None, 16, 256)           295168    \n",
      "_________________________________________________________________\n",
      "conv1d_8 (Conv1D)            (None, 16, 256)           590080    \n",
      "_________________________________________________________________\n",
      "conv1d_9 (Conv1D)            (None, 16, 256)           590080    \n",
      "_________________________________________________________________\n",
      "max_pooling1d_3 (MaxPooling1 (None, 8, 256)            0         \n",
      "_________________________________________________________________\n",
      "dropout (Dropout)            (None, 8, 256)            0         \n",
      "_________________________________________________________________\n",
      "flatten (Flatten)            (None, 2048)              0         \n",
      "_________________________________________________________________\n",
      "dense (Dense)                (None, 256)               524544    \n",
      "_________________________________________________________________\n",
      "batch_normalization (BatchNo (None, 256)               1024      \n",
      "_________________________________________________________________\n",
      "activation (Activation)      (None, 256)               0         \n",
      "_________________________________________________________________\n",
      "dense_1 (Dense)              (None, 12)                3084      \n",
      "=================================================================\n",
      "Total params: 2,473,996\n",
      "Trainable params: 2,473,484\n",
      "Non-trainable params: 512\n",
      "_________________________________________________________________\n"
     ]
    }
   ],
   "source": [
    "input_tensor = layers.Input(shape=(130, 126))\n",
    "\n",
    "x = layers.Conv1D(32, 9, padding='same', activation='relu')(input_tensor)\n",
    "x = layers.Conv1D(32, 9, padding='same', activation='relu')(x)\n",
    "x = layers.MaxPool1D()(x)\n",
    "\n",
    "x = layers.Conv1D(64, 9, padding='same', activation='relu')(x)\n",
    "x = layers.Conv1D(64, 9, padding='same', activation='relu')(x)\n",
    "x = layers.MaxPool1D()(x)\n",
    "\n",
    "x = layers.Conv1D(128, 9, padding='same', activation='relu')(x)\n",
    "x = layers.Conv1D(128, 9, padding='same', activation='relu')(x)\n",
    "x = layers.Conv1D(128, 9, padding='same', activation='relu')(x)\n",
    "x = layers.MaxPool1D()(x)\n",
    "\n",
    "x = layers.Conv1D(256, 9, padding='same', activation='relu')(x)\n",
    "x = layers.Conv1D(256, 9, padding='same', activation='relu')(x)\n",
    "x = layers.Conv1D(256, 9, padding='same', activation='relu')(x)\n",
    "x = layers.MaxPool1D()(x)\n",
    "x = layers.Dropout(0.3)(x)\n",
    "\n",
    "x = layers.Flatten()(x)\n",
    "x = layers.Dense(256)(x)\n",
    "x = layers.BatchNormalization()(x)\n",
    "x = layers.Activation('relu')(x)\n",
    "\n",
    "output_tensor = layers.Dense(12)(x)\n",
    "\n",
    "model_spec = tf.keras.Model(input_tensor, output_tensor)\n",
    "\n",
    "model_spec.summary()"
   ]
  },
  {
   "cell_type": "markdown",
   "metadata": {},
   "source": [
    "### 5. 학습 후, 학습이 어떻게 진행됐는지 그래프로 출력\n",
    "- loss, accuracy를 그래프로 표현"
   ]
  },
  {
   "cell_type": "code",
   "execution_count": 10,
   "metadata": {},
   "outputs": [
    {
     "name": "stdout",
     "output_type": "stream",
     "text": [
      "Epoch 1/10\n",
      "1420/1423 [============================>.] - ETA: 0s - loss: 1.3831 - accuracy: 0.5273\n",
      "Epoch 00001: val_loss improved from inf to 0.79657, saving model to /home/aiffel/aiffel/speech_recognition/models/spec\n",
      "1423/1423 [==============================] - 17s 12ms/step - loss: 1.3824 - accuracy: 0.5276 - val_loss: 0.7966 - val_accuracy: 0.7328\n",
      "Epoch 2/10\n",
      "1418/1423 [============================>.] - ETA: 0s - loss: 0.6279 - accuracy: 0.7899\n",
      "Epoch 00002: val_loss improved from 0.79657 to 0.49783, saving model to /home/aiffel/aiffel/speech_recognition/models/spec\n",
      "1423/1423 [==============================] - 17s 12ms/step - loss: 0.6274 - accuracy: 0.7900 - val_loss: 0.4978 - val_accuracy: 0.8350\n",
      "Epoch 3/10\n",
      "1423/1423 [==============================] - ETA: 0s - loss: 0.4359 - accuracy: 0.8544\n",
      "Epoch 00003: val_loss improved from 0.49783 to 0.40282, saving model to /home/aiffel/aiffel/speech_recognition/models/spec\n",
      "1423/1423 [==============================] - 16s 12ms/step - loss: 0.4359 - accuracy: 0.8544 - val_loss: 0.4028 - val_accuracy: 0.8647\n",
      "Epoch 4/10\n",
      "1420/1423 [============================>.] - ETA: 0s - loss: 0.3295 - accuracy: 0.8902\n",
      "Epoch 00004: val_loss improved from 0.40282 to 0.39083, saving model to /home/aiffel/aiffel/speech_recognition/models/spec\n",
      "1423/1423 [==============================] - 15s 11ms/step - loss: 0.3294 - accuracy: 0.8902 - val_loss: 0.3908 - val_accuracy: 0.8706\n",
      "Epoch 5/10\n",
      "1423/1423 [==============================] - ETA: 0s - loss: 0.2623 - accuracy: 0.9134\n",
      "Epoch 00005: val_loss improved from 0.39083 to 0.33591, saving model to /home/aiffel/aiffel/speech_recognition/models/spec\n",
      "1423/1423 [==============================] - 15s 11ms/step - loss: 0.2623 - accuracy: 0.9134 - val_loss: 0.3359 - val_accuracy: 0.8902\n",
      "Epoch 6/10\n",
      "1422/1423 [============================>.] - ETA: 0s - loss: 0.2134 - accuracy: 0.9286\n",
      "Epoch 00006: val_loss improved from 0.33591 to 0.31600, saving model to /home/aiffel/aiffel/speech_recognition/models/spec\n",
      "1423/1423 [==============================] - 13s 9ms/step - loss: 0.2133 - accuracy: 0.9286 - val_loss: 0.3160 - val_accuracy: 0.8977\n",
      "Epoch 7/10\n",
      "1420/1423 [============================>.] - ETA: 0s - loss: 0.1808 - accuracy: 0.9407\n",
      "Epoch 00007: val_loss did not improve from 0.31600\n",
      "1423/1423 [==============================] - 15s 11ms/step - loss: 0.1807 - accuracy: 0.9408 - val_loss: 0.3209 - val_accuracy: 0.8979\n",
      "Epoch 8/10\n",
      "1419/1423 [============================>.] - ETA: 0s - loss: 0.1534 - accuracy: 0.9497\n",
      "Epoch 00008: val_loss improved from 0.31600 to 0.28603, saving model to /home/aiffel/aiffel/speech_recognition/models/spec\n",
      "1423/1423 [==============================] - 15s 10ms/step - loss: 0.1536 - accuracy: 0.9497 - val_loss: 0.2860 - val_accuracy: 0.9108\n",
      "Epoch 9/10\n",
      "1419/1423 [============================>.] - ETA: 0s - loss: 0.1392 - accuracy: 0.9513\n",
      "Epoch 00009: val_loss improved from 0.28603 to 0.27931, saving model to /home/aiffel/aiffel/speech_recognition/models/spec\n",
      "1423/1423 [==============================] - 16s 11ms/step - loss: 0.1393 - accuracy: 0.9513 - val_loss: 0.2793 - val_accuracy: 0.9136\n",
      "Epoch 10/10\n",
      "1418/1423 [============================>.] - ETA: 0s - loss: 0.1262 - accuracy: 0.9573\n",
      "Epoch 00010: val_loss did not improve from 0.27931\n",
      "1423/1423 [==============================] - 15s 10ms/step - loss: 0.1263 - accuracy: 0.9572 - val_loss: 0.2940 - val_accuracy: 0.9100\n"
     ]
    }
   ],
   "source": [
    "optimizer=tf.keras.optimizers.Adam(1e-4)\n",
    "model_spec.compile(loss=tf.keras.losses.CategoricalCrossentropy(from_logits=True),\n",
    "             optimizer=optimizer,\n",
    "             metrics=['accuracy'])\n",
    "\n",
    "cp_callback = tf.keras.callbacks.ModelCheckpoint(checkpoint_dir,\n",
    "                                                 save_weights_only=True,\n",
    "                                                 monitor='val_loss',\n",
    "                                                 mode='auto',\n",
    "                                                 save_best_only=True,\n",
    "                                                 verbose=1)\n",
    "history_spec = model_spec.fit(train_dataset, epochs=max_epochs,\n",
    "                    steps_per_epoch=len(train_spec) // batch_size,\n",
    "                    validation_data=test_dataset,\n",
    "                    validation_steps=len(test_spec) // batch_size,\n",
    "                    callbacks=[cp_callback]\n",
    "                    )"
   ]
  },
  {
   "cell_type": "code",
   "execution_count": 11,
   "metadata": {},
   "outputs": [
    {
     "data": {
      "image/png": "[encoded data removed]",
      "text/plain": [
       "<Figure size 576x576 with 2 Axes>"
      ]
     },
     "metadata": {
      "needs_background": "light"
     },
     "output_type": "display_data"
    }
   ],
   "source": [
    "acc = history_spec.history['accuracy']\n",
    "val_acc = history_spec.history['val_accuracy']\n",
    "\n",
    "loss=history_spec.history['loss']\n",
    "val_loss=history_spec.history['val_loss']\n",
    "\n",
    "epochs_range = range(len(acc))\n",
    "\n",
    "plt.figure(figsize=(8, 8))\n",
    "plt.subplot(1, 2, 1)\n",
    "plt.plot(epochs_range, acc, label='Training Accuracy')\n",
    "plt.plot(epochs_range, val_acc, label='Validation Accuracy')\n",
    "plt.legend(loc='lower right')\n",
    "plt.title('Training and Validation Accuracy')\n",
    "\n",
    "plt.subplot(1, 2, 2)\n",
    "plt.plot(epochs_range, loss, label='Training Loss')\n",
    "plt.plot(epochs_range, val_loss, label='Validation Loss')\n",
    "plt.legend(loc='upper right')\n",
    "plt.title('Training and Validation Loss')\n",
    "plt.show()"
   ]
  },
  {
   "cell_type": "markdown",
   "metadata": {},
   "source": [
    "### 6. Test dataset을 이용해서 모델의 성능을 평가\n",
    "- 저장한 weight 불러오기\n",
    "- 모델의 예측값과 정답값이 얼마나 일치하는지 확인"
   ]
  },
  {
   "cell_type": "code",
   "execution_count": 12,
   "metadata": {},
   "outputs": [
    {
     "name": "stdout",
     "output_type": "stream",
     "text": [
      "159/159 [==============================] - 14s 91ms/step - loss: 0.2790 - accuracy: 0.9137\n"
     ]
    }
   ],
   "source": [
    "model_spec.load_weights(checkpoint_dir)\n",
    "results = model_spec.evaluate(test_dataset)"
   ]
  },
  {
   "cell_type": "code",
   "execution_count": 13,
   "metadata": {},
   "outputs": [
    {
     "name": "stdout",
     "output_type": "stream",
     "text": [
      "y_pred: right(Correct!)\n"
     ]
    }
   ],
   "source": [
    "inv_label_value = {v: k for k, v in label_value.items()}\n",
    "batch_index = np.random.choice(len(test_spec), size=1, replace=False)\n",
    "\n",
    "batch_xs = test_spec[batch_index]\n",
    "batch_ys = test_label[batch_index]\n",
    "y_pred_ = model_spec(batch_xs, training=False)\n",
    "\n",
    "if np.argmax(y_pred_) == batch_ys[0]:\n",
    "    print(\"y_pred: \" + str(inv_label_value[np.argmax(y_pred_)]) + '(Correct!)')\n",
    "else:\n",
    "    print(\"y_pred: \" + str(inv_label_value[np.argmax(y_pred_)]) + '(Incorrect!)')"
   ]
  },
  {
   "cell_type": "markdown",
   "metadata": {},
   "source": [
    "### Conv2D layer 사용 모델"
   ]
  },
  {
   "cell_type": "code",
   "execution_count": 8,
   "metadata": {},
   "outputs": [
    {
     "name": "stdout",
     "output_type": "stream",
     "text": [
      "<BatchDataset shapes: ((None, 130, 126, 1), (None, 12)), types: (tf.float32, tf.float32)>\n",
      "<BatchDataset shapes: ((None, 130, 126, 1), (None, 12)), types: (tf.float32, tf.float32)>\n"
     ]
    }
   ],
   "source": [
    "train_spec_4d = train_spec.reshape(-1, 130, 126, 1)\n",
    "test_spec_4d = test_spec.reshape(-1, 130, 126, 1)\n",
    "\n",
    "one_hot_label = lambda x, y : (x, tf.one_hot(y, depth=12))\n",
    "\n",
    "train_dataset = tf.data.Dataset.from_tensor_slices((train_spec_4d, train_label))\n",
    "train_dataset = train_dataset.map(one_hot_label)\n",
    "train_dataset = train_dataset.repeat().batch(batch_size=batch_size)\n",
    "print(train_dataset)\n",
    "\n",
    "\n",
    "test_dataset = tf.data.Dataset.from_tensor_slices((test_spec_4d, test_label))\n",
    "test_dataset = test_dataset.map(one_hot_label)\n",
    "test_dataset = test_dataset.batch(batch_size=batch_size)\n",
    "print(test_dataset)"
   ]
  },
  {
   "cell_type": "code",
   "execution_count": 9,
   "metadata": {},
   "outputs": [
    {
     "name": "stdout",
     "output_type": "stream",
     "text": [
      "Model: \"model\"\n",
      "_________________________________________________________________\n",
      "Layer (type)                 Output Shape              Param #   \n",
      "=================================================================\n",
      "input_1 (InputLayer)         [(None, 130, 126, 1)]     0         \n",
      "_________________________________________________________________\n",
      "conv2d (Conv2D)              (None, 130, 126, 32)      2624      \n",
      "_________________________________________________________________\n",
      "conv2d_1 (Conv2D)            (None, 130, 126, 32)      82976     \n",
      "_________________________________________________________________\n",
      "max_pooling2d (MaxPooling2D) (None, 65, 63, 32)        0         \n",
      "_________________________________________________________________\n",
      "conv2d_2 (Conv2D)            (None, 65, 63, 64)        165952    \n",
      "_________________________________________________________________\n",
      "conv2d_3 (Conv2D)            (None, 65, 63, 64)        331840    \n",
      "_________________________________________________________________\n",
      "max_pooling2d_1 (MaxPooling2 (None, 32, 31, 64)        0         \n",
      "_________________________________________________________________\n",
      "conv2d_4 (Conv2D)            (None, 32, 31, 128)       663680    \n",
      "_________________________________________________________________\n",
      "conv2d_5 (Conv2D)            (None, 32, 31, 128)       1327232   \n",
      "_________________________________________________________________\n",
      "conv2d_6 (Conv2D)            (None, 32, 31, 128)       1327232   \n",
      "_________________________________________________________________\n",
      "max_pooling2d_2 (MaxPooling2 (None, 16, 15, 128)       0         \n",
      "_________________________________________________________________\n",
      "conv2d_7 (Conv2D)            (None, 16, 15, 256)       2654464   \n",
      "_________________________________________________________________\n",
      "conv2d_8 (Conv2D)            (None, 16, 15, 256)       5308672   \n",
      "_________________________________________________________________\n",
      "conv2d_9 (Conv2D)            (None, 16, 15, 256)       5308672   \n",
      "_________________________________________________________________\n",
      "max_pooling2d_3 (MaxPooling2 (None, 8, 7, 256)         0         \n",
      "_________________________________________________________________\n",
      "dropout (Dropout)            (None, 8, 7, 256)         0         \n",
      "_________________________________________________________________\n",
      "flatten (Flatten)            (None, 14336)             0         \n",
      "_________________________________________________________________\n",
      "dense (Dense)                (None, 256)               3670272   \n",
      "_________________________________________________________________\n",
      "batch_normalization (BatchNo (None, 256)               1024      \n",
      "_________________________________________________________________\n",
      "activation (Activation)      (None, 256)               0         \n",
      "_________________________________________________________________\n",
      "dense_1 (Dense)              (None, 12)                3084      \n",
      "=================================================================\n",
      "Total params: 20,847,724\n",
      "Trainable params: 20,847,212\n",
      "Non-trainable params: 512\n",
      "_________________________________________________________________\n"
     ]
    }
   ],
   "source": [
    "input_tensor = layers.Input(shape=(130, 126, 1))\n",
    "\n",
    "x = layers.Conv2D(32, 9, padding='same', activation='relu')(input_tensor)\n",
    "x = layers.Conv2D(32, 9, padding='same', activation='relu')(x)\n",
    "x = layers.MaxPool2D()(x)\n",
    "\n",
    "x = layers.Conv2D(64, 9, padding='same', activation='relu')(x)\n",
    "x = layers.Conv2D(64, 9, padding='same', activation='relu')(x)\n",
    "x = layers.MaxPool2D()(x)\n",
    "\n",
    "x = layers.Conv2D(128, 9, padding='same', activation='relu')(x)\n",
    "x = layers.Conv2D(128, 9, padding='same', activation='relu')(x)\n",
    "x = layers.Conv2D(128, 9, padding='same', activation='relu')(x)\n",
    "x = layers.MaxPool2D()(x)\n",
    "\n",
    "x = layers.Conv2D(256, 9, padding='same', activation='relu')(x)\n",
    "x = layers.Conv2D(256, 9, padding='same', activation='relu')(x)\n",
    "x = layers.Conv2D(256, 9, padding='same', activation='relu')(x)\n",
    "x = layers.MaxPool2D()(x)\n",
    "x = layers.Dropout(0.3)(x)\n",
    "\n",
    "x = layers.Flatten()(x)\n",
    "x = layers.Dense(256)(x)\n",
    "x = layers.BatchNormalization()(x)\n",
    "x = layers.Activation('relu')(x)\n",
    "\n",
    "output_tensor = layers.Dense(12)(x)\n",
    "\n",
    "model_spec = tf.keras.Model(input_tensor, output_tensor)\n",
    "\n",
    "model_spec.summary()"
   ]
  },
  {
   "cell_type": "code",
   "execution_count": 10,
   "metadata": {},
   "outputs": [
    {
     "name": "stdout",
     "output_type": "stream",
     "text": [
      "Epoch 1/10\n",
      "1423/1423 [==============================] - ETA: 0s - loss: 0.7162 - accuracy: 0.7608\n",
      "Epoch 00001: val_loss improved from inf to 0.28408, saving model to /home/aiffel/aiffel/speech_recognition/models/spec_conv2d\n",
      "1423/1423 [==============================] - 204s 143ms/step - loss: 0.7162 - accuracy: 0.7608 - val_loss: 0.2841 - val_accuracy: 0.9161\n",
      "Epoch 2/10\n",
      "1423/1423 [==============================] - ETA: 0s - loss: 0.2338 - accuracy: 0.9270\n",
      "Epoch 00002: val_loss improved from 0.28408 to 0.25497, saving model to /home/aiffel/aiffel/speech_recognition/models/spec_conv2d\n",
      "1423/1423 [==============================] - 205s 144ms/step - loss: 0.2338 - accuracy: 0.9270 - val_loss: 0.2550 - val_accuracy: 0.9237\n",
      "Epoch 3/10\n",
      "1423/1423 [==============================] - ETA: 0s - loss: 0.1617 - accuracy: 0.9483\n",
      "Epoch 00003: val_loss improved from 0.25497 to 0.17594, saving model to /home/aiffel/aiffel/speech_recognition/models/spec_conv2d\n",
      "1423/1423 [==============================] - 205s 144ms/step - loss: 0.1617 - accuracy: 0.9483 - val_loss: 0.1759 - val_accuracy: 0.9440\n",
      "Epoch 4/10\n",
      "1423/1423 [==============================] - ETA: 0s - loss: 0.1280 - accuracy: 0.9583\n",
      "Epoch 00004: val_loss improved from 0.17594 to 0.16699, saving model to /home/aiffel/aiffel/speech_recognition/models/spec_conv2d\n",
      "1423/1423 [==============================] - 207s 145ms/step - loss: 0.1280 - accuracy: 0.9583 - val_loss: 0.1670 - val_accuracy: 0.9523\n",
      "Epoch 5/10\n",
      "1423/1423 [==============================] - ETA: 0s - loss: 0.1056 - accuracy: 0.9657\n",
      "Epoch 00005: val_loss improved from 0.16699 to 0.13601, saving model to /home/aiffel/aiffel/speech_recognition/models/spec_conv2d\n",
      "1423/1423 [==============================] - 208s 146ms/step - loss: 0.1056 - accuracy: 0.9657 - val_loss: 0.1360 - val_accuracy: 0.9587\n",
      "Epoch 6/10\n",
      "1423/1423 [==============================] - ETA: 0s - loss: 0.0904 - accuracy: 0.9698\n",
      "Epoch 00006: val_loss did not improve from 0.13601\n",
      "1423/1423 [==============================] - 206s 145ms/step - loss: 0.0904 - accuracy: 0.9698 - val_loss: 0.1384 - val_accuracy: 0.9579\n",
      "Epoch 7/10\n",
      "1423/1423 [==============================] - ETA: 0s - loss: 0.0779 - accuracy: 0.9735\n",
      "Epoch 00007: val_loss did not improve from 0.13601\n",
      "1423/1423 [==============================] - 205s 144ms/step - loss: 0.0779 - accuracy: 0.9735 - val_loss: 0.1444 - val_accuracy: 0.9583\n",
      "Epoch 8/10\n",
      "1423/1423 [==============================] - ETA: 0s - loss: 0.0735 - accuracy: 0.9749\n",
      "Epoch 00008: val_loss improved from 0.13601 to 0.12540, saving model to /home/aiffel/aiffel/speech_recognition/models/spec_conv2d\n",
      "1423/1423 [==============================] - 206s 144ms/step - loss: 0.0735 - accuracy: 0.9749 - val_loss: 0.1254 - val_accuracy: 0.9626\n",
      "Epoch 9/10\n",
      "1423/1423 [==============================] - ETA: 0s - loss: 0.0662 - accuracy: 0.9775\n",
      "Epoch 00009: val_loss did not improve from 0.12540\n",
      "1423/1423 [==============================] - 205s 144ms/step - loss: 0.0662 - accuracy: 0.9775 - val_loss: 0.1254 - val_accuracy: 0.9654\n",
      "Epoch 10/10\n",
      "1423/1423 [==============================] - ETA: 0s - loss: 0.0622 - accuracy: 0.9789\n",
      "Epoch 00010: val_loss improved from 0.12540 to 0.10794, saving model to /home/aiffel/aiffel/speech_recognition/models/spec_conv2d\n",
      "1423/1423 [==============================] - 209s 147ms/step - loss: 0.0622 - accuracy: 0.9789 - val_loss: 0.1079 - val_accuracy: 0.9699\n"
     ]
    }
   ],
   "source": [
    "optimizer=tf.keras.optimizers.Adam(1e-4)\n",
    "model_spec.compile(loss=tf.keras.losses.CategoricalCrossentropy(from_logits=True),\n",
    "             optimizer=optimizer,\n",
    "             metrics=['accuracy'])\n",
    "\n",
    "checkpoint_dir = os.getenv('HOME')+'/aiffel/speech_recognition/models/spec_conv2d'\n",
    "\n",
    "cp_callback = tf.keras.callbacks.ModelCheckpoint(checkpoint_dir,\n",
    "                                                 save_weights_only=True,\n",
    "                                                 monitor='val_loss',\n",
    "                                                 mode='auto',\n",
    "                                                 save_best_only=True,\n",
    "                                                 verbose=1)\n",
    "history_spec = model_spec.fit(train_dataset, epochs=max_epochs,\n",
    "                    steps_per_epoch=len(train_spec) // batch_size,\n",
    "                    validation_data=test_dataset,\n",
    "                    validation_steps=len(test_spec) // batch_size,\n",
    "                    callbacks=[cp_callback]\n",
    "                    )"
   ]
  },
  {
   "cell_type": "code",
   "execution_count": 11,
   "metadata": {},
   "outputs": [
    {
     "data": {
      "image/png": "[encoded data removed]",
      "text/plain": [
       "<Figure size 576x576 with 2 Axes>"
      ]
     },
     "metadata": {
      "needs_background": "light"
     },
     "output_type": "display_data"
    }
   ],
   "source": [
    "acc = history_spec.history['accuracy']\n",
    "val_acc = history_spec.history['val_accuracy']\n",
    "\n",
    "loss=history_spec.history['loss']\n",
    "val_loss=history_spec.history['val_loss']\n",
    "\n",
    "epochs_range = range(len(acc))\n",
    "\n",
    "plt.figure(figsize=(8, 8))\n",
    "plt.subplot(1, 2, 1)\n",
    "plt.plot(epochs_range, acc, label='Training Accuracy')\n",
    "plt.plot(epochs_range, val_acc, label='Validation Accuracy')\n",
    "plt.legend(loc='lower right')\n",
    "plt.title('Training and Validation Accuracy')\n",
    "\n",
    "plt.subplot(1, 2, 2)\n",
    "plt.plot(epochs_range, loss, label='Training Loss')\n",
    "plt.plot(epochs_range, val_loss, label='Validation Loss')\n",
    "plt.legend(loc='upper right')\n",
    "plt.title('Training and Validation Loss')\n",
    "plt.show()"
   ]
  },
  {
   "cell_type": "code",
   "execution_count": 12,
   "metadata": {},
   "outputs": [
    {
     "name": "stdout",
     "output_type": "stream",
     "text": [
      "159/159 [==============================] - 22s 139ms/step - loss: 0.1078 - accuracy: 0.9700\n"
     ]
    }
   ],
   "source": [
    "model_spec.load_weights(checkpoint_dir)\n",
    "results = model_spec.evaluate(test_dataset)"
   ]
  },
  {
   "cell_type": "code",
   "execution_count": 13,
   "metadata": {},
   "outputs": [
    {
     "name": "stdout",
     "output_type": "stream",
     "text": [
      "y_pred: right(Correct!)\n"
     ]
    }
   ],
   "source": [
    "inv_label_value = {v: k for k, v in label_value.items()}\n",
    "batch_index = np.random.choice(len(test_spec), size=1, replace=False)\n",
    "\n",
    "batch_xs = test_spec[batch_index]\n",
    "batch_ys = test_label[batch_index]\n",
    "y_pred_ = model_spec(batch_xs, training=False)\n",
    "\n",
    "if np.argmax(y_pred_) == batch_ys[0]:\n",
    "    print(\"y_pred: \" + str(inv_label_value[np.argmax(y_pred_)]) + '(Correct!)')\n",
    "else:\n",
    "    print(\"y_pred: \" + str(inv_label_value[np.argmax(y_pred_)]) + '(Incorrect!)')"
   ]
  },
  {
   "cell_type": "markdown",
   "metadata": {},
   "source": [
    "### Skip Connection을 적용한 Model"
   ]
  },
  {
   "cell_type": "code",
   "execution_count": 14,
   "metadata": {},
   "outputs": [
    {
     "name": "stdout",
     "output_type": "stream",
     "text": [
      "Model: \"model_1\"\n",
      "__________________________________________________________________________________________________\n",
      "Layer (type)                    Output Shape         Param #     Connected to                     \n",
      "==================================================================================================\n",
      "input_2 (InputLayer)            [(None, 130, 126)]   0                                            \n",
      "__________________________________________________________________________________________________\n",
      "conv1d_10 (Conv1D)              (None, 130, 32)      36320       input_2[0][0]                    \n",
      "__________________________________________________________________________________________________\n",
      "conv1d_11 (Conv1D)              (None, 130, 32)      9248        conv1d_10[0][0]                  \n",
      "__________________________________________________________________________________________________\n",
      "max_pooling1d_4 (MaxPooling1D)  (None, 65, 32)       0           conv1d_11[0][0]                  \n",
      "__________________________________________________________________________________________________\n",
      "conv1d_12 (Conv1D)              (None, 65, 64)       18496       max_pooling1d_4[0][0]            \n",
      "__________________________________________________________________________________________________\n",
      "conv1d_13 (Conv1D)              (None, 65, 64)       36928       conv1d_12[0][0]                  \n",
      "__________________________________________________________________________________________________\n",
      "tf_op_layer_concat (TensorFlowO [(None, 65, 96)]     0           conv1d_13[0][0]                  \n",
      "                                                                 max_pooling1d_4[0][0]            \n",
      "__________________________________________________________________________________________________\n",
      "max_pooling1d_5 (MaxPooling1D)  (None, 32, 96)       0           tf_op_layer_concat[0][0]         \n",
      "__________________________________________________________________________________________________\n",
      "conv1d_14 (Conv1D)              (None, 32, 128)      110720      max_pooling1d_5[0][0]            \n",
      "__________________________________________________________________________________________________\n",
      "conv1d_15 (Conv1D)              (None, 32, 128)      147584      conv1d_14[0][0]                  \n",
      "__________________________________________________________________________________________________\n",
      "conv1d_16 (Conv1D)              (None, 32, 128)      147584      conv1d_15[0][0]                  \n",
      "__________________________________________________________________________________________________\n",
      "tf_op_layer_concat_1 (TensorFlo [(None, 32, 224)]    0           conv1d_16[0][0]                  \n",
      "                                                                 max_pooling1d_5[0][0]            \n",
      "__________________________________________________________________________________________________\n",
      "max_pooling1d_6 (MaxPooling1D)  (None, 16, 224)      0           tf_op_layer_concat_1[0][0]       \n",
      "__________________________________________________________________________________________________\n",
      "conv1d_17 (Conv1D)              (None, 16, 256)      516352      max_pooling1d_6[0][0]            \n",
      "__________________________________________________________________________________________________\n",
      "conv1d_18 (Conv1D)              (None, 16, 256)      590080      conv1d_17[0][0]                  \n",
      "__________________________________________________________________________________________________\n",
      "conv1d_19 (Conv1D)              (None, 16, 256)      590080      conv1d_18[0][0]                  \n",
      "__________________________________________________________________________________________________\n",
      "tf_op_layer_concat_2 (TensorFlo [(None, 16, 480)]    0           conv1d_19[0][0]                  \n",
      "                                                                 max_pooling1d_6[0][0]            \n",
      "__________________________________________________________________________________________________\n",
      "max_pooling1d_7 (MaxPooling1D)  (None, 8, 480)       0           tf_op_layer_concat_2[0][0]       \n",
      "__________________________________________________________________________________________________\n",
      "dropout_1 (Dropout)             (None, 8, 480)       0           max_pooling1d_7[0][0]            \n",
      "__________________________________________________________________________________________________\n",
      "flatten_1 (Flatten)             (None, 3840)         0           dropout_1[0][0]                  \n",
      "__________________________________________________________________________________________________\n",
      "dense_2 (Dense)                 (None, 256)          983296      flatten_1[0][0]                  \n",
      "__________________________________________________________________________________________________\n",
      "batch_normalization_1 (BatchNor (None, 256)          1024        dense_2[0][0]                    \n",
      "__________________________________________________________________________________________________\n",
      "activation_1 (Activation)       (None, 256)          0           batch_normalization_1[0][0]      \n",
      "__________________________________________________________________________________________________\n",
      "dense_3 (Dense)                 (None, 12)           3084        activation_1[0][0]               \n",
      "==================================================================================================\n",
      "Total params: 3,190,796\n",
      "Trainable params: 3,190,284\n",
      "Non-trainable params: 512\n",
      "__________________________________________________________________________________________________\n"
     ]
    }
   ],
   "source": [
    "input_tensor = layers.Input(shape=(130, 126))\n",
    "\n",
    "x = layers.Conv1D(32, 9, padding='same', activation='relu')(input_tensor)\n",
    "x = layers.Conv1D(32, 9, padding='same', activation='relu')(x)\n",
    "skip_1 = layers.MaxPool1D()(x)\n",
    "\n",
    "x = layers.Conv1D(64, 9, padding='same', activation='relu')(skip_1)\n",
    "x = layers.Conv1D(64, 9, padding='same', activation='relu')(x)\n",
    "x = tf.concat([x, skip_1], -1)\n",
    "skip_2 = layers.MaxPool1D()(x)\n",
    "\n",
    "x = layers.Conv1D(128, 9, padding='same', activation='relu')(skip_2)\n",
    "x = layers.Conv1D(128, 9, padding='same', activation='relu')(x)\n",
    "x = layers.Conv1D(128, 9, padding='same', activation='relu')(x)\n",
    "x = tf.concat([x, skip_2], -1)\n",
    "skip_3 = layers.MaxPool1D()(x)\n",
    "\n",
    "x = layers.Conv1D(256, 9, padding='same', activation='relu')(skip_3)\n",
    "x = layers.Conv1D(256, 9, padding='same', activation='relu')(x)\n",
    "x = layers.Conv1D(256, 9, padding='same', activation='relu')(x)\n",
    "x = tf.concat([x, skip_3], -1)\n",
    "x = layers.MaxPool1D()(x)\n",
    "x = layers.Dropout(0.3)(x)\n",
    "\n",
    "x = layers.Flatten()(x)\n",
    "x = layers.Dense(256)(x)\n",
    "x = layers.BatchNormalization()(x)\n",
    "x = layers.Activation('relu')(x)\n",
    "\n",
    "output_tensor = layers.Dense(12)(x)\n",
    "\n",
    "model_spec_skip = tf.keras.Model(input_tensor, output_tensor)\n",
    "\n",
    "model_spec_skip.summary()"
   ]
  },
  {
   "cell_type": "code",
   "execution_count": 15,
   "metadata": {},
   "outputs": [],
   "source": [
    "optimizer=tf.keras.optimizers.Adam(1e-4)\n",
    "model_spec_skip.compile(loss=tf.keras.losses.CategoricalCrossentropy(from_logits=True),\n",
    "             optimizer=optimizer,\n",
    "             metrics=['accuracy'])\n",
    "\n",
    "checkpoint_dir = os.getenv('HOME')+'/aiffel/speech_recognition/models/spec_skip'\n",
    "\n",
    "cp_callback = tf.keras.callbacks.ModelCheckpoint(checkpoint_dir,\n",
    "                                                 save_weights_only=True,\n",
    "                                                 monitor='val_loss',\n",
    "                                                 mode='auto',\n",
    "                                                 save_best_only=True,\n",
    "                                                 verbose=1)"
   ]
  },
  {
   "cell_type": "code",
   "execution_count": 16,
   "metadata": {},
   "outputs": [
    {
     "name": "stdout",
     "output_type": "stream",
     "text": [
      "Epoch 1/10\n",
      "1422/1423 [============================>.] - ETA: 0s - loss: 1.5132 - accuracy: 0.4895\n",
      "Epoch 00001: val_loss improved from inf to 0.93893, saving model to /home/aiffel/aiffel/speech_recognition/models/spec_skip\n",
      "1423/1423 [==============================] - 16s 11ms/step - loss: 1.5131 - accuracy: 0.4895 - val_loss: 0.9389 - val_accuracy: 0.6806\n",
      "Epoch 2/10\n",
      "1423/1423 [==============================] - ETA: 0s - loss: 0.7222 - accuracy: 0.7612\n",
      "Epoch 00002: val_loss improved from 0.93893 to 0.55071, saving model to /home/aiffel/aiffel/speech_recognition/models/spec_skip\n",
      "1423/1423 [==============================] - 17s 12ms/step - loss: 0.7222 - accuracy: 0.7612 - val_loss: 0.5507 - val_accuracy: 0.8198\n",
      "Epoch 3/10\n",
      "1420/1423 [============================>.] - ETA: 0s - loss: 0.4767 - accuracy: 0.8419\n",
      "Epoch 00003: val_loss improved from 0.55071 to 0.46513, saving model to /home/aiffel/aiffel/speech_recognition/models/spec_skip\n",
      "1423/1423 [==============================] - 16s 11ms/step - loss: 0.4768 - accuracy: 0.8419 - val_loss: 0.4651 - val_accuracy: 0.8451\n",
      "Epoch 4/10\n",
      "1423/1423 [==============================] - ETA: 0s - loss: 0.3593 - accuracy: 0.8819\n",
      "Epoch 00004: val_loss improved from 0.46513 to 0.37853, saving model to /home/aiffel/aiffel/speech_recognition/models/spec_skip\n",
      "1423/1423 [==============================] - 16s 11ms/step - loss: 0.3593 - accuracy: 0.8819 - val_loss: 0.3785 - val_accuracy: 0.8710\n",
      "Epoch 5/10\n",
      "1422/1423 [============================>.] - ETA: 0s - loss: 0.2849 - accuracy: 0.9060\n",
      "Epoch 00005: val_loss improved from 0.37853 to 0.33552, saving model to /home/aiffel/aiffel/speech_recognition/models/spec_skip\n",
      "1423/1423 [==============================] - 15s 11ms/step - loss: 0.2849 - accuracy: 0.9060 - val_loss: 0.3355 - val_accuracy: 0.8859\n",
      "Epoch 6/10\n",
      "1422/1423 [============================>.] - ETA: 0s - loss: 0.2276 - accuracy: 0.9252\n",
      "Epoch 00006: val_loss improved from 0.33552 to 0.31095, saving model to /home/aiffel/aiffel/speech_recognition/models/spec_skip\n",
      "1423/1423 [==============================] - 17s 12ms/step - loss: 0.2277 - accuracy: 0.9252 - val_loss: 0.3109 - val_accuracy: 0.8977\n",
      "Epoch 7/10\n",
      "1422/1423 [============================>.] - ETA: 0s - loss: 0.1871 - accuracy: 0.9385\n",
      "Epoch 00007: val_loss improved from 0.31095 to 0.28390, saving model to /home/aiffel/aiffel/speech_recognition/models/spec_skip\n",
      "1423/1423 [==============================] - 16s 11ms/step - loss: 0.1870 - accuracy: 0.9385 - val_loss: 0.2839 - val_accuracy: 0.9092\n",
      "Epoch 8/10\n",
      "1421/1423 [============================>.] - ETA: 0s - loss: 0.1571 - accuracy: 0.9483\n",
      "Epoch 00008: val_loss improved from 0.28390 to 0.27842, saving model to /home/aiffel/aiffel/speech_recognition/models/spec_skip\n",
      "1423/1423 [==============================] - 16s 11ms/step - loss: 0.1571 - accuracy: 0.9483 - val_loss: 0.2784 - val_accuracy: 0.9120\n",
      "Epoch 9/10\n",
      "1422/1423 [============================>.] - ETA: 0s - loss: 0.1385 - accuracy: 0.9541\n",
      "Epoch 00009: val_loss improved from 0.27842 to 0.24857, saving model to /home/aiffel/aiffel/speech_recognition/models/spec_skip\n",
      "1423/1423 [==============================] - 15s 10ms/step - loss: 0.1385 - accuracy: 0.9541 - val_loss: 0.2486 - val_accuracy: 0.9183\n",
      "Epoch 10/10\n",
      "1420/1423 [============================>.] - ETA: 0s - loss: 0.1192 - accuracy: 0.9596\n",
      "Epoch 00010: val_loss did not improve from 0.24857\n",
      "1423/1423 [==============================] - 15s 11ms/step - loss: 0.1193 - accuracy: 0.9595 - val_loss: 0.2771 - val_accuracy: 0.9130\n"
     ]
    }
   ],
   "source": [
    "history_spec_skip = model_spec_skip.fit(train_dataset, epochs=max_epochs,\n",
    "                    steps_per_epoch=len(train_spec) // batch_size,\n",
    "                    validation_data=test_dataset,\n",
    "                    validation_steps=len(test_spec) // batch_size,\n",
    "                    callbacks=[cp_callback]\n",
    "                    )"
   ]
  },
  {
   "cell_type": "code",
   "execution_count": 17,
   "metadata": {},
   "outputs": [
    {
     "data": {
      "image/png": "[encoded data removed]",
      "text/plain": [
       "<Figure size 576x576 with 2 Axes>"
      ]
     },
     "metadata": {
      "needs_background": "light"
     },
     "output_type": "display_data"
    }
   ],
   "source": [
    "acc = history_spec_skip.history['accuracy']\n",
    "val_acc = history_spec_skip.history['val_accuracy']\n",
    "\n",
    "loss=history_spec_skip.history['loss']\n",
    "val_loss=history_spec_skip.history['val_loss']\n",
    "\n",
    "epochs_range = range(len(acc))\n",
    "\n",
    "plt.figure(figsize=(8, 8))\n",
    "plt.subplot(1, 2, 1)\n",
    "plt.plot(epochs_range, acc, label='Training Accuracy')\n",
    "plt.plot(epochs_range, val_acc, label='Validation Accuracy')\n",
    "plt.legend(loc='lower right')\n",
    "plt.title('Training and Validation Accuracy')\n",
    "\n",
    "plt.subplot(1, 2, 2)\n",
    "plt.plot(epochs_range, loss, label='Training Loss')\n",
    "plt.plot(epochs_range, val_loss, label='Validation Loss')\n",
    "plt.legend(loc='upper right')\n",
    "plt.title('Training and Validation Loss')\n",
    "plt.show()"
   ]
  },
  {
   "cell_type": "code",
   "execution_count": 18,
   "metadata": {},
   "outputs": [
    {
     "name": "stdout",
     "output_type": "stream",
     "text": [
      "159/159 [==============================] - 4s 25ms/step - loss: 0.2485 - accuracy: 0.9182\n"
     ]
    }
   ],
   "source": [
    "model_spec_skip.load_weights(checkpoint_dir)\n",
    "results = model_spec_skip.evaluate(test_dataset)"
   ]
  },
  {
   "cell_type": "code",
   "execution_count": 19,
   "metadata": {},
   "outputs": [
    {
     "name": "stdout",
     "output_type": "stream",
     "text": [
      "y_pred: yes(Correct!)\n"
     ]
    }
   ],
   "source": [
    "inv_label_value = {v: k for k, v in label_value.items()}\n",
    "batch_index = np.random.choice(len(test_spec), size=1, replace=False)\n",
    "\n",
    "batch_xs = test_spec[batch_index]\n",
    "batch_ys = test_label[batch_index]\n",
    "y_pred_ = model_spec_skip(batch_xs, training=False)\n",
    "\n",
    "if np.argmax(y_pred_) == batch_ys[0]:\n",
    "    print(\"y_pred: \" + str(inv_label_value[np.argmax(y_pred_)]) + '(Correct!)')\n",
    "else:\n",
    "    print(\"y_pred: \" + str(inv_label_value[np.argmax(y_pred_)]) + '(Incorrect!)')"
   ]
  },
  {
   "cell_type": "markdown",
   "metadata": {},
   "source": [
    "### 회고\n",
    "\n",
    "**목표**\n",
    "\n",
    "wav 형식의 데이터를 librosa 라이브러리를 활용해 spectrogram으로 변환해 그 데이터에 대해 모델을 생성한다.\n",
    "\n",
    "**고민했던 점**\n",
    "\n",
    "1. 작성한 코드의 순서상 모델을 구성한 후 학습을 진행하려 할 때, 계속해서 커널이 종료되는 현상이 있었다. 알고보니 메모리가 부족해서 발생하는 현상이었다. speech_data는 분할한 후에는 더 이상 사용하지 않을 데이터기 때문에 del speech_data로 메모리에서 해제해줬더니 모델 학습이 진행됐다.\n",
    "\n",
    "2. librosa 라이브러리를 활용해서 wav 형식을 spectrogram으로 변환할 수 있었지만, spectrogram을 다시 wav 형식으로 변환하는 것은 생각보다 어려웠다. 변환에 성공하더라도 원래의 소리가 그대로 복원되지 않아서 찾아보니, spectrogram과 mel spectrogram이 있는데, wav과 mel spectrogram은 쉽게 상호 변환이 가능하도록 라이브러리에서 관련 기능을 제공했다.\n",
    "\n",
    "3. conv1d 레이어와 conv2d 레이어의 차이는 필터가 1차원으로만 움직이는지, 2차원으로 움직이는지의 차이라는 걸 알게 됐다. conv1d 레이어의 입력 데이터 차원은 3차원이고, conv2d 레이어의 입력 데이터 차원은 4차원인 것도 필터의 움직임이 한 차원 더 높기 때문이 아닐까 생각한다. train_spec과 test_spec 데이터를 한 차원씩 높여서 reshape한 후 conv2d로 학습을 진행해보면, 학습 시간이 훨씬 더 걸렸다. 두 모델의 summary를 보면 차이점은 conv1d 레이어 모델은 output shape (None, 130, 126)에서 126이 의미있게 활용되는 것 같지 않은 것 같다. 또한 파라미터의 수가 거의 10배가 차이난다. 파라미터가 어떻게 정해지는지 필터가 어떻게 적용되는 것인지 더 알아봐야 할 것 같다."
   ]
  }
 ],
 "metadata": {
  "kernelspec": {
   "display_name": "aiffel",
   "language": "python",
   "name": "aiffel"
  },
  "language_info": {
   "codemirror_mode": {
    "name": "ipython",
    "version": 3
   },
   "file_extension": ".py",
   "mimetype": "text/x-python",
   "name": "python",
   "nbconvert_exporter": "python",
   "pygments_lexer": "ipython3",
   "version": "3.7.6"
  }
 },
 "nbformat": 4,
 "nbformat_minor": 2
}
